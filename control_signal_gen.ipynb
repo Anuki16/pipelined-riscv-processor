{
 "cells": [
  {
   "cell_type": "code",
   "execution_count": 5,
   "metadata": {},
   "outputs": [],
   "source": [
    "import pandas as pd"
   ]
  },
  {
   "cell_type": "code",
   "execution_count": 18,
   "metadata": {},
   "outputs": [],
   "source": [
    "df = pd.read_csv(\"riscv_controller.csv\", dtype=str)\n",
    "df.dropna(how=\"all\", inplace=True)\n"
   ]
  },
  {
   "cell_type": "code",
   "execution_count": 20,
   "metadata": {},
   "outputs": [
    {
     "name": "stdout",
     "output_type": "stream",
     "text": [
      "\tassign control_store[9'b011000000] = {1'b1,\t4'b0000,\t1'b0,\t1'b0,\t1'b0,\t1'b0,\t2'b00,\t1'b0,\t2'b00,\t3'b000,  1'b0,  9'b000000000}; // add\n",
      "\tassign control_store[9'b011000001] = {1'b1,\t4'b0001,\t1'b0,\t1'b0,\t1'b0,\t1'b0,\t2'b00,\t1'b0,\t2'b00,\t3'b000,  1'b0,  9'b000000000}; // sub\n",
      "\tassign control_store[9'b011000010] = {1'b1,\t4'b0010,\t1'b0,\t1'b0,\t1'b0,\t1'b0,\t2'b00,\t1'b0,\t2'b00,\t3'b000,  1'b0,  9'b000000000}; // sll\n",
      "\tassign control_store[9'b011000100] = {1'b1,\t4'b1000,\t1'b0,\t1'b0,\t1'b0,\t1'b0,\t2'b00,\t1'b0,\t2'b00,\t3'b000,  1'b0,  9'b000000000}; // slt\n",
      "\tassign control_store[9'b011000110] = {1'b1,\t4'b1001,\t1'b0,\t1'b0,\t1'b0,\t1'b0,\t2'b00,\t1'b0,\t2'b00,\t3'b000,  1'b0,  9'b000000000}; // sltu\n",
      "\tassign control_store[9'b011001000] = {1'b1,\t4'b0111,\t1'b0,\t1'b0,\t1'b0,\t1'b0,\t2'b00,\t1'b0,\t2'b00,\t3'b000,  1'b0,  9'b000000000}; // xor\n",
      "\tassign control_store[9'b011001010] = {1'b1,\t4'b0011,\t1'b0,\t1'b0,\t1'b0,\t1'b0,\t2'b00,\t1'b0,\t2'b00,\t3'b000,  1'b0,  9'b000000000}; // srl\n",
      "\tassign control_store[9'b011001011] = {1'b1,\t4'b0100,\t1'b0,\t1'b0,\t1'b0,\t1'b0,\t2'b00,\t1'b0,\t2'b00,\t3'b000,  1'b0,  9'b000000000}; // sra\n",
      "\tassign control_store[9'b011001100] = {1'b1,\t4'b0110,\t1'b0,\t1'b0,\t1'b0,\t1'b0,\t2'b00,\t1'b0,\t2'b00,\t3'b000,  1'b0,  9'b000000000}; // or\n",
      "\tassign control_store[9'b011001110] = {1'b1,\t4'b0101,\t1'b0,\t1'b0,\t1'b0,\t1'b0,\t2'b00,\t1'b0,\t2'b00,\t3'b000,  1'b0,  9'b000000000}; // and\n",
      "\tassign control_store[9'b001000000] = {1'b1,\t4'b0000,\t1'b1,\t1'b0,\t1'b0,\t1'b0,\t2'b00,\t1'b0,\t2'b00,\t3'b000,  1'b0,  9'b000000000}; // addi\n",
      "\tassign control_store[9'b001000100] = {1'b1,\t4'b1000,\t1'b1,\t1'b0,\t1'b0,\t1'b0,\t2'b00,\t1'b0,\t2'b00,\t3'b000,  1'b0,  9'b000000000}; // slti\n",
      "\tassign control_store[9'b001000110] = {1'b1,\t4'b1001,\t1'b1,\t1'b0,\t1'b0,\t1'b0,\t2'b00,\t1'b0,\t2'b00,\t3'b000,  1'b0,  9'b000000000}; // sltiu\n",
      "\tassign control_store[9'b001001000] = {1'b1,\t4'b0111,\t1'b1,\t1'b0,\t1'b0,\t1'b0,\t2'b00,\t1'b0,\t2'b00,\t3'b000,  1'b0,  9'b000000000}; // xori\n",
      "\tassign control_store[9'b001001100] = {1'b1,\t4'b0110,\t1'b1,\t1'b0,\t1'b0,\t1'b0,\t2'b00,\t1'b0,\t2'b00,\t3'b000,  1'b0,  9'b000000000}; // ori\n",
      "\tassign control_store[9'b001001110] = {1'b1,\t4'b0101,\t1'b1,\t1'b0,\t1'b0,\t1'b0,\t2'b00,\t1'b0,\t2'b00,\t3'b000,  1'b0,  9'b000000000}; // andi\n",
      "\tassign control_store[9'b001000010] = {1'b1,\t4'b0010,\t1'b1,\t1'b0,\t1'b0,\t1'b0,\t2'b00,\t1'b0,\t2'b00,\t3'b000,  1'b0,  9'b000000000}; // slli\n",
      "\tassign control_store[9'b001001010] = {1'b1,\t4'b0011,\t1'b1,\t1'b0,\t1'b0,\t1'b0,\t2'b00,\t1'b0,\t2'b00,\t3'b000,  1'b0,  9'b000000000}; // srli\n",
      "\tassign control_store[9'b001001011] = {1'b1,\t4'b0100,\t1'b1,\t1'b0,\t1'b0,\t1'b0,\t2'b00,\t1'b0,\t2'b00,\t3'b000,  1'b0,  9'b000000000}; // srai\n",
      "\tassign control_store[9'b011010000] = {1'b1,\t4'b1011,\t1'b1,\t1'b0,\t1'b0,\t1'b0,\t2'b00,\t1'b0,\t2'b00,\t3'b000,  1'b0,  9'b000000000}; // lui\n",
      "\tassign control_store[9'b001010000] = {1'b1,\t4'b0000,\t1'b1,\t1'b1,\t1'b0,\t1'b0,\t2'b00,\t1'b0,\t2'b00,\t3'b000,  1'b0,  9'b000000000}; // auipc\n",
      "\tassign control_store[9'b000000000] = {1'b1,\t4'b0000,\t1'b1,\t1'b0,\t1'b0,\t1'b1,\t2'b00,\t1'b0,\t2'b01,\t3'b000,  1'b1,  9'b000000001}; // lb\n",
      "\tassign control_store[9'b000000010] = {1'b1,\t4'b0000,\t1'b1,\t1'b0,\t1'b0,\t1'b1,\t2'b01,\t1'b0,\t2'b01,\t3'b000,  1'b1,  9'b000000011}; // lh\n",
      "\tassign control_store[9'b000000100] = {1'b1,\t4'b0000,\t1'b1,\t1'b0,\t1'b0,\t1'b1,\t2'b11,\t1'b0,\t2'b01,\t3'b000,  1'b1,  9'b000000101}; // lw\n",
      "\tassign control_store[9'b000001000] = {1'b1,\t4'b0000,\t1'b1,\t1'b0,\t1'b0,\t1'b1,\t2'b00,\t1'b1,\t2'b01,\t3'b000,  1'b1,  9'b000001001}; // lbu\n",
      "\tassign control_store[9'b000001010] = {1'b1,\t4'b0000,\t1'b1,\t1'b0,\t1'b0,\t1'b1,\t2'b01,\t1'b1,\t2'b01,\t3'b000,  1'b1,  9'b000001011}; // lhu\n",
      "\tassign control_store[9'b010000000] = {1'b0,\t4'b0000,\t1'b1,\t1'b0,\t1'b1,\t1'b0,\t2'b00,\t1'b0,\t2'b00,\t3'b000,  1'b1,  9'b010000001}; // sb\n",
      "\tassign control_store[9'b010000010] = {1'b0,\t4'b0000,\t1'b1,\t1'b0,\t1'b1,\t1'b0,\t2'b01,\t1'b0,\t2'b00,\t3'b000,  1'b1,  9'b010000011}; // sh\n",
      "\tassign control_store[9'b010000100] = {1'b0,\t4'b0000,\t1'b1,\t1'b0,\t1'b1,\t1'b0,\t2'b11,\t1'b0,\t2'b00,\t3'b000,  1'b1,  9'b010000101}; // sw\n",
      "\tassign control_store[9'b110000000] = {1'b0,\t4'b0001,\t1'b0,\t1'b0,\t1'b0,\t1'b0,\t2'b00,\t1'b0,\t2'b00,\t3'b011,  1'b0,  9'b000000000}; // beq\n",
      "\tassign control_store[9'b110000010] = {1'b0,\t4'b0001,\t1'b0,\t1'b0,\t1'b0,\t1'b0,\t2'b00,\t1'b0,\t2'b00,\t3'b100,  1'b0,  9'b000000000}; // bne\n",
      "\tassign control_store[9'b110001000] = {1'b0,\t4'b1000,\t1'b0,\t1'b0,\t1'b0,\t1'b0,\t2'b00,\t1'b0,\t2'b00,\t3'b101,  1'b0,  9'b000000000}; // blt\n",
      "\tassign control_store[9'b110001010] = {1'b0,\t4'b1000,\t1'b0,\t1'b0,\t1'b0,\t1'b0,\t2'b00,\t1'b0,\t2'b00,\t3'b110,  1'b0,  9'b000000000}; // bge\n",
      "\tassign control_store[9'b110001100] = {1'b0,\t4'b1001,\t1'b0,\t1'b0,\t1'b0,\t1'b0,\t2'b00,\t1'b0,\t2'b00,\t3'b101,  1'b0,  9'b000000000}; // bltu\n",
      "\tassign control_store[9'b110001110] = {1'b0,\t4'b1001,\t1'b0,\t1'b0,\t1'b0,\t1'b0,\t2'b00,\t1'b0,\t2'b00,\t3'b110,  1'b0,  9'b000000000}; // bgeu\n",
      "\tassign control_store[9'b110110000] = {1'b1,\t4'b0000,\t1'b0,\t1'b0,\t1'b0,\t1'b0,\t2'b00,\t1'b0,\t2'b10,\t3'b001,  1'b0,  9'b000000000}; // jal\n",
      "\tassign control_store[9'b110010000] = {1'b1,\t4'b0000,\t1'b1,\t1'b0,\t1'b0,\t1'b0,\t2'b00,\t1'b0,\t2'b10,\t3'b010,  1'b0,  9'b000000000}; // jalr\n"
     ]
    }
   ],
   "source": [
    "for i in range(len(df)):\n",
    "    row = df.iloc[i]\n",
    "    addr = row.Opcode[:-2]\n",
    "    addr += row.func3 if row.func3 != '-' else '000'\n",
    "    addr += row.func7[1] if row.func7 != '-' else '0'\n",
    "    assert addr == row.micro_addr\n",
    "    \n",
    "    print(f\"\\tassign control_store[9'b{addr}] = {{1'b{row.write_en},\t4'b{row.alu_sel},\t1'b{row.alu_b_sel},\t1'b{row.alu_a_sel},\t1'b{row.mem_write},\t1'b{row.mem_read},\t2'b{row.load_store_type},\t1'b{row.load_unsigned},\t2'b{row.write_src_sel},\t3'b{row.branch_type},  1'b{row.stay},  9'b{row.next_uinst}}}; // {row.op}\")"
   ]
  },
  {
   "cell_type": "code",
   "execution_count": 21,
   "metadata": {},
   "outputs": [
    {
     "name": "stdout",
     "output_type": "stream",
     "text": [
      "\tassign control_store[9'b000000001] = {1'b1,\t4'b0000,\t1'b1,\t1'b0,\t1'b0,\t1'b1,\t2'b00,\t1'b0,\t2'b01,\t3'b000,  1'b0,  9'b000000000}; // lb next\n",
      "\tassign control_store[9'b000000011] = {1'b1,\t4'b0000,\t1'b1,\t1'b0,\t1'b0,\t1'b1,\t2'b01,\t1'b0,\t2'b01,\t3'b000,  1'b0,  9'b000000000}; // lh next\n",
      "\tassign control_store[9'b000000101] = {1'b1,\t4'b0000,\t1'b1,\t1'b0,\t1'b0,\t1'b1,\t2'b11,\t1'b0,\t2'b01,\t3'b000,  1'b0,  9'b000000000}; // lw next\n",
      "\tassign control_store[9'b000001001] = {1'b1,\t4'b0000,\t1'b1,\t1'b0,\t1'b0,\t1'b1,\t2'b00,\t1'b1,\t2'b01,\t3'b000,  1'b0,  9'b000000000}; // lbu next\n",
      "\tassign control_store[9'b000001011] = {1'b1,\t4'b0000,\t1'b1,\t1'b0,\t1'b0,\t1'b1,\t2'b01,\t1'b1,\t2'b01,\t3'b000,  1'b0,  9'b000000000}; // lhu next\n",
      "\tassign control_store[9'b010000001] = {1'b0,\t4'b0000,\t1'b1,\t1'b0,\t1'b1,\t1'b0,\t2'b00,\t1'b0,\t2'b00,\t3'b000,  1'b0,  9'b000000000}; // sb next\n",
      "\tassign control_store[9'b010000011] = {1'b0,\t4'b0000,\t1'b1,\t1'b0,\t1'b1,\t1'b0,\t2'b01,\t1'b0,\t2'b00,\t3'b000,  1'b0,  9'b000000000}; // sh next\n",
      "\tassign control_store[9'b010000101] = {1'b0,\t4'b0000,\t1'b1,\t1'b0,\t1'b1,\t1'b0,\t2'b11,\t1'b0,\t2'b00,\t3'b000,  1'b0,  9'b000000000}; // sw next\n"
     ]
    }
   ],
   "source": [
    "for i in range(len(df)):\n",
    "    row = df.iloc[i]\n",
    "    addr = row.Opcode[:-2]\n",
    "    if row.stay == '1':\n",
    "        print(f\"\\tassign control_store[9'b{row.next_uinst}] = {{1'b{row.write_en},\t4'b{row.alu_sel},\t1'b{row.alu_b_sel},\t1'b{row.alu_a_sel},\t1'b{row.mem_write},\t1'b{row.mem_read},\t2'b{row.load_store_type},\t1'b{row.load_unsigned},\t2'b{row.write_src_sel},\t3'b{row.branch_type},  1'b0,  9'b000000000}}; // {row.op} next\")"
   ]
  },
  {
   "cell_type": "code",
   "execution_count": 8,
   "metadata": {},
   "outputs": [
    {
     "name": "stdout",
     "output_type": "stream",
     "text": [
      "011000000\n",
      "011000001\n",
      "011000010\n",
      "011000100\n",
      "011000110\n",
      "011001000\n",
      "011001010\n",
      "011001011\n",
      "011001100\n",
      "011001110\n",
      "001000000\n",
      "001000100\n",
      "001000110\n",
      "001001000\n",
      "001001100\n",
      "001001110\n",
      "001000010\n",
      "001001010\n",
      "001001011\n",
      "011010000\n",
      "001010000\n",
      "000000000\n",
      "000000010\n",
      "000000100\n",
      "000001000\n",
      "000001010\n",
      "010000000\n",
      "010000010\n",
      "010000100\n",
      "110000000\n",
      "110000010\n",
      "110001000\n",
      "110001010\n",
      "110001100\n",
      "110001110\n",
      "110110000\n",
      "110010000\n"
     ]
    }
   ],
   "source": [
    "for i in range(len(df)):\n",
    "    row = df.iloc[i]\n",
    "    addr = row.Opcode[:-2]\n",
    "    addr += row.func3 if row.func3 != '-' else '000'\n",
    "    addr += row.func7[1] if row.func7 != '-' else '0'\n",
    "    print(addr)"
   ]
  },
  {
   "cell_type": "code",
   "execution_count": 31,
   "metadata": {},
   "outputs": [
    {
     "data": {
      "text/plain": [
       "Index(['Type', 'Opcode', 'func3', 'func7', 'Name', 'write_en ', 'alu_sel',\n",
       "       'alu_b_sel', 'alu_a_sel', 'mem_write', 'mem_read', 'load_store_type',\n",
       "       'load_unsigned', 'write_src_sel', 'branch_type', 'stay', 'next_uinst',\n",
       "       'Unnamed: 17', 'Unnamed: 18', 'Unnamed: 19', 'Unnamed: 20'],\n",
       "      dtype='object')"
      ]
     },
     "execution_count": 31,
     "metadata": {},
     "output_type": "execute_result"
    }
   ],
   "source": [
    "df.columns"
   ]
  },
  {
   "cell_type": "code",
   "execution_count": null,
   "metadata": {},
   "outputs": [],
   "source": []
  }
 ],
 "metadata": {
  "kernelspec": {
   "display_name": "Python 3",
   "language": "python",
   "name": "python3"
  },
  "language_info": {
   "codemirror_mode": {
    "name": "ipython",
    "version": 3
   },
   "file_extension": ".py",
   "mimetype": "text/x-python",
   "name": "python",
   "nbconvert_exporter": "python",
   "pygments_lexer": "ipython3",
   "version": "3.11.3"
  },
  "orig_nbformat": 4
 },
 "nbformat": 4,
 "nbformat_minor": 2
}
